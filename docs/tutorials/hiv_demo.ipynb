{
 "cells": [
  {
   "cell_type": "markdown",
   "id": "dd65a1f9",
   "metadata": {},
   "source": [
    "# HIVsim demo\n",
    "\n",
    "One of the central disease modules included within the STIsim package is the HIV module, which can be used either alone or in combination with other Starsim modules. The STIsim package is designed to simulate the spread of HIV and other sexually transmitted infections (STIs) in a population, taking into account various factors such as sexual networks, risk behaviors, and interventions. This tutorial will cover the different ways of interacting with the HIV module and how to use it to simulate HIV transmission dynamics.\n",
    "\n",
    "If you haven't already installed STIsim, you can clone the repository from GitHub (stisim.org), then just type `pip install stisim` into your terminal window from the stisim folder. If it worked, you should be able to import STIsim with `import stisim as sti`.\n",
    "\n",
    "STIsim is part of the Starsim model family, and follows Starsim's basic design philosophy: namely, that **common tasks should be simple**. STIsim is designed to make it very easy to run simple simulations (e.g., for training or demonstration purposes), but also to make it intuitive and flexible for running much more detailed analyses."
   ]
  },
  {
   "cell_type": "code",
   "execution_count": 1,
   "id": "cba49c8a",
   "metadata": {
    "tags": [
     "hide-cell"
    ],
    "ExecuteTime": {
     "end_time": "2025-08-14T00:00:39.055203Z",
     "start_time": "2025-08-14T00:00:35.423822Z"
    }
   },
   "outputs": [
    {
     "name": "stdout",
     "output_type": "stream",
     "text": [
      "Note: you may need to restart the kernel to use updated packages.\n"
     ]
    }
   ],
   "source": [
    "%pip install -q stisim # Install Starsim if required"
   ]
  },
  {
   "cell_type": "markdown",
   "id": "5b4d89ba",
   "metadata": {},
   "source": [
    "\n",
    "Let's start with the simplest version of an HIV model."
   ]
  },
  {
   "cell_type": "code",
   "execution_count": 1,
   "id": "c6b0dfc8",
   "metadata": {
    "ExecuteTime": {
     "end_time": "2025-08-14T00:38:27.758129Z",
     "start_time": "2025-08-14T00:38:04.936661Z"
    }
   },
   "outputs": [
    {
     "name": "stdout",
     "output_type": "stream",
     "text": [
      "STIsim 1.4.0 (2025-07-22) — © 2024-2025 by IDM\n"
     ]
    },
    {
     "ename": "AttributeError",
     "evalue": "Cannot change the base of `ss.dur` from weeks to week; use `dur.mutate()` instead",
     "output_type": "error",
     "traceback": [
      "\u001B[31m---------------------------------------------------------------------------\u001B[39m",
      "\u001B[31mAttributeError\u001B[39m                            Traceback (most recent call last)",
      "\u001B[36mCell\u001B[39m\u001B[36m \u001B[39m\u001B[32mIn[1]\u001B[39m\u001B[32m, line 10\u001B[39m\n\u001B[32m      4\u001B[39m pars = \u001B[38;5;28mdict\u001B[39m(\n\u001B[32m      5\u001B[39m     n_agents = \u001B[32m10_000\u001B[39m,    \u001B[38;5;66;03m# Number of agents to simulate\u001B[39;00m\n\u001B[32m      6\u001B[39m     diseases = \u001B[33m'\u001B[39m\u001B[33mhiv\u001B[39m\u001B[33m'\u001B[39m,     \u001B[38;5;66;03m# Disease to simulate\u001B[39;00m\n\u001B[32m      7\u001B[39m )\n\u001B[32m      9\u001B[39m \u001B[38;5;66;03m# Make the sim, run and plot\u001B[39;00m\n\u001B[32m---> \u001B[39m\u001B[32m10\u001B[39m sim = sti.Sim(pars)\n\u001B[32m     11\u001B[39m sim.run()\n\u001B[32m     12\u001B[39m sim.plot()\n",
      "\u001B[36mFile \u001B[39m\u001B[32m~/Documents/git/stisim/stisim/sim.py:100\u001B[39m, in \u001B[36mSim.__init__\u001B[39m\u001B[34m(self, pars, sim_pars, sti_pars, nw_pars, label, people, demographics, diseases, networks, interventions, analyzers, connectors, datafolder, **kwargs)\u001B[39m\n\u001B[32m     97\u001B[39m sim_kwargs = \u001B[38;5;28mdict\u001B[39m(label=label, people=people, demographics=demographics, diseases=diseases, networks=networks,\n\u001B[32m     98\u001B[39m             interventions=interventions, analyzers=analyzers, connectors=connectors)\n\u001B[32m     99\u001B[39m sim_kwargs = {key: val \u001B[38;5;28;01mfor\u001B[39;00m key, val \u001B[38;5;129;01min\u001B[39;00m sim_kwargs.items() \u001B[38;5;28;01mif\u001B[39;00m val \u001B[38;5;129;01mis\u001B[39;00m \u001B[38;5;129;01mnot\u001B[39;00m \u001B[38;5;28;01mNone\u001B[39;00m}\n\u001B[32m--> \u001B[39m\u001B[32m100\u001B[39m updated_pars = \u001B[38;5;28mself\u001B[39m.separate_pars(pars, sim_pars, sti_pars, nw_pars, sim_kwargs, **kwargs)\n\u001B[32m    101\u001B[39m \u001B[38;5;28mself\u001B[39m.pars.update(updated_pars)\n\u001B[32m    102\u001B[39m \u001B[38;5;28;01mreturn\u001B[39;00m\n",
      "\u001B[36mFile \u001B[39m\u001B[32m~/Documents/git/stisim/stisim/sim.py:123\u001B[39m, in \u001B[36mSim.separate_pars\u001B[39m\u001B[34m(self, pars, sim_pars, sti_pars, nw_pars, sim_kwargs, **kwargs)\u001B[39m\n\u001B[32m    120\u001B[39m sim_pars = sc.mergedicts(user_sim_pars, sim_pars, _copy=\u001B[38;5;28;01mTrue\u001B[39;00m)  \u001B[38;5;66;03m# Don't merge with defaults, those are set above\u001B[39;00m\n\u001B[32m    122\u001B[39m \u001B[38;5;66;03m# Deal with STI pars\u001B[39;00m\n\u001B[32m--> \u001B[39m\u001B[32m123\u001B[39m all_sti_pars = sti.merged_sti_pars()  \u001B[38;5;66;03m# All STI parameters, ignoring duplicates\u001B[39;00m\n\u001B[32m    124\u001B[39m user_sti_pars = {}\n\u001B[32m    125\u001B[39m \u001B[38;5;28;01mfor\u001B[39;00m k, v \u001B[38;5;129;01min\u001B[39;00m all_pars.items():\n",
      "\u001B[36mFile \u001B[39m\u001B[32m~/Documents/git/stisim/stisim/parameters.py:93\u001B[39m, in \u001B[36mmerged_sti_pars\u001B[39m\u001B[34m()\u001B[39m\n\u001B[32m     91\u001B[39m \u001B[38;5;66;03m# Get the parameters from each disease module\u001B[39;00m\n\u001B[32m     92\u001B[39m \u001B[38;5;28;01mfor\u001B[39;00m dname, disease \u001B[38;5;129;01min\u001B[39;00m sti_register().items():\n\u001B[32m---> \u001B[39m\u001B[32m93\u001B[39m     disease_pars = disease().pars\n\u001B[32m     94\u001B[39m     \u001B[38;5;66;03m# Merge the parameters into the merged_pars dictionary\u001B[39;00m\n\u001B[32m     95\u001B[39m     merged_pars.update(disease_pars)\n",
      "\u001B[36mFile \u001B[39m\u001B[32m~/Documents/git/stisim/stisim/diseases/bv.py:365\u001B[39m, in \u001B[36mBV.__init__\u001B[39m\u001B[34m(self, pars, name, **kwargs)\u001B[39m\n\u001B[32m    362\u001B[39m \u001B[38;5;28msuper\u001B[39m().\u001B[34m__init__\u001B[39m(name=name)\n\u001B[32m    364\u001B[39m \u001B[38;5;66;03m# Handle parameters\u001B[39;00m\n\u001B[32m--> \u001B[39m\u001B[32m365\u001B[39m default_pars = BVPars()\n\u001B[32m    366\u001B[39m \u001B[38;5;28mself\u001B[39m.define_pars(**default_pars)\n\u001B[32m    367\u001B[39m \u001B[38;5;28mself\u001B[39m.update_pars(pars, **kwargs)\n",
      "\u001B[36mFile \u001B[39m\u001B[32m~/Documents/git/stisim/stisim/diseases/bv.py:309\u001B[39m, in \u001B[36mBVPars.__init__\u001B[39m\u001B[34m(self, **kwargs)\u001B[39m\n\u001B[32m    302\u001B[39m \u001B[38;5;28mself\u001B[39m.init_prev = ss.bernoulli(\n\u001B[32m    303\u001B[39m     p=\u001B[32m0.23\u001B[39m\n\u001B[32m    304\u001B[39m )  \u001B[38;5;66;03m# Initial prevalence of BV (https://www.who.int/news-room/fact-sheets/detail/bacterial-vaginosis)\u001B[39;00m\n\u001B[32m    305\u001B[39m \u001B[38;5;28mself\u001B[39m.stable_cst_distribution = ss.choice(\n\u001B[32m    306\u001B[39m     [\u001B[32m1\u001B[39m, \u001B[32m3\u001B[39m, \u001B[32m4\u001B[39m], p=[\u001B[32m0.10\u001B[39m, \u001B[32m0.30\u001B[39m, \u001B[32m0.60\u001B[39m]\n\u001B[32m    307\u001B[39m )  \u001B[38;5;66;03m# Distribution of stable CST states https://microbiomejournal.biomedcentral.com/articles/10.1186/s40168-021-01096-9\u001B[39;00m\n\u001B[32m    308\u001B[39m \u001B[38;5;28mself\u001B[39m.dur2clear = sc.objdict(  \u001B[38;5;66;03m# Time until transitioning back to stable CST state\u001B[39;00m\n\u001B[32m--> \u001B[39m\u001B[32m309\u001B[39m     cst3=ss.uniform(ss.dur(\u001B[32m1\u001B[39m, \u001B[33m\"\u001B[39m\u001B[33mweek\u001B[39m\u001B[33m\"\u001B[39m), ss.dur(\u001B[32m18\u001B[39m, \u001B[33m\"\u001B[39m\u001B[33mweek\u001B[39m\u001B[33m\"\u001B[39m)),  \u001B[38;5;66;03m#\u001B[39;00m\n\u001B[32m    310\u001B[39m     cst4=ss.uniform(\n\u001B[32m    311\u001B[39m         ss.dur(\u001B[32m5\u001B[39m, \u001B[33m\"\u001B[39m\u001B[33mweek\u001B[39m\u001B[33m\"\u001B[39m), ss.dur(\u001B[32m50\u001B[39m, \u001B[33m\"\u001B[39m\u001B[33mweek\u001B[39m\u001B[33m\"\u001B[39m)\n\u001B[32m    312\u001B[39m     ),  \u001B[38;5;66;03m# Natural clearance https://www.sciencedirect.com/science/article/abs/pii/S0002937803010421?via%3Dihub\u001B[39;00m\n\u001B[32m    313\u001B[39m     male=ss.uniform(ss.dur(\u001B[32m1\u001B[39m, \u001B[33m\"\u001B[39m\u001B[33mweek\u001B[39m\u001B[33m\"\u001B[39m), ss.dur(\u001B[32m18\u001B[39m, \u001B[33m\"\u001B[39m\u001B[33mweek\u001B[39m\u001B[33m\"\u001B[39m)),\n\u001B[32m    314\u001B[39m )\n\u001B[32m    315\u001B[39m \u001B[38;5;28mself\u001B[39m.spontaneous_clearance = sc.objdict(  \u001B[38;5;66;03m# Where to transition to after spontaneous clearance\u001B[39;00m\n\u001B[32m    316\u001B[39m     stable_cst1=\u001B[32m1\u001B[39m,  \u001B[38;5;66;03m# https://pmc.ncbi.nlm.nih.gov/articles/PMC9387550/\u001B[39;00m\n\u001B[32m    317\u001B[39m     stable_cst3=\u001B[32m3\u001B[39m,  \u001B[38;5;66;03m# https://pmc.ncbi.nlm.nih.gov/articles/PMC9387550/\u001B[39;00m\n\u001B[32m    318\u001B[39m     stable_cst4=\u001B[32m3\u001B[39m,  \u001B[38;5;66;03m# https://pmc.ncbi.nlm.nih.gov/articles/PMC9387550/\u001B[39;00m\n\u001B[32m    319\u001B[39m )\n\u001B[32m    320\u001B[39m \u001B[38;5;28mself\u001B[39m.dur_presymp = ss.uniform(ss.dur(\u001B[32m1\u001B[39m, \u001B[33m\"\u001B[39m\u001B[33mweek\u001B[39m\u001B[33m\"\u001B[39m), ss.dur(\u001B[32m2\u001B[39m, \u001B[33m\"\u001B[39m\u001B[33mweek\u001B[39m\u001B[33m\"\u001B[39m))\n",
      "\u001B[36mFile \u001B[39m\u001B[32m~/Documents/git/starsim/starsim/time.py:922\u001B[39m, in \u001B[36mdur.__init__\u001B[39m\u001B[34m(self, value, base)\u001B[39m\n\u001B[32m    920\u001B[39m         \u001B[38;5;28;01melse\u001B[39;00m:\n\u001B[32m    921\u001B[39m             errormsg = \u001B[33mf\u001B[39m\u001B[33m'\u001B[39m\u001B[33mCannot change the base of `ss.dur` from \u001B[39m\u001B[38;5;132;01m{\u001B[39;00m\u001B[38;5;28mself\u001B[39m.base\u001B[38;5;132;01m}\u001B[39;00m\u001B[33m to \u001B[39m\u001B[38;5;132;01m{\u001B[39;00mbase\u001B[38;5;132;01m}\u001B[39;00m\u001B[33m; use `dur.mutate()` instead\u001B[39m\u001B[33m'\u001B[39m\n\u001B[32m--> \u001B[39m\u001B[32m922\u001B[39m             \u001B[38;5;28;01mraise\u001B[39;00m \u001B[38;5;167;01mAttributeError\u001B[39;00m(errormsg)\n\u001B[32m    923\u001B[39m \u001B[38;5;28;01melse\u001B[39;00m:\n\u001B[32m    924\u001B[39m     errormsg = \u001B[33mf\u001B[39m\u001B[33m'\u001B[39m\u001B[33mExpecting scalar, array, or ss.dur as value, not \u001B[39m\u001B[38;5;132;01m{\u001B[39;00mvalue\u001B[38;5;132;01m}\u001B[39;00m\u001B[33m'\u001B[39m\n",
      "\u001B[31mAttributeError\u001B[39m: Cannot change the base of `ss.dur` from weeks to week; use `dur.mutate()` instead"
     ]
    }
   ],
   "source": [
    "import stisim as sti\n",
    "\n",
    "# Define the parameters\n",
    "pars = dict(\n",
    "    n_agents = 10_000,    # Number of agents to simulate\n",
    "    demographics = 'zimbabwe',  # Demographic to use\n",
    "    diseases = 'hiv',     # Disease to simulate\n",
    ")\n",
    "\n",
    "# Make the sim, run and plot\n",
    "sim = sti.Sim(pars)\n",
    "sim.run()\n",
    "sim.plot()\n",
    "sim.diseases.hiv.plot()"
   ]
  },
  {
   "cell_type": "markdown",
   "id": "02be91b3",
   "metadata": {},
   "source": [
    "As the tutorials progress we'll show how to extend this different diseases with different transmission pathways, and how to customize the model in lots of different ways."
   ]
  }
 ],
 "metadata": {
  "kernelspec": {
   "name": "starsim22",
   "language": "python",
   "display_name": "SS2"
  },
  "language_info": {
   "codemirror_mode": {
    "name": "ipython",
    "version": 3
   },
   "file_extension": ".py",
   "mimetype": "text/x-python",
   "name": "python",
   "nbconvert_exporter": "python",
   "pygments_lexer": "ipython3",
   "version": "3.12.10"
  }
 },
 "nbformat": 4,
 "nbformat_minor": 5
}
